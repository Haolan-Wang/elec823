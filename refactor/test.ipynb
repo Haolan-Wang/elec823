{
 "cells": [
  {
   "cell_type": "code",
   "execution_count": 1,
   "metadata": {},
   "outputs": [],
   "source": [
    "import torchaudio\n",
    "import os\n",
    "import torch\n",
    "from utils import InitializationTrain\n",
    "CONSTANTS = InitializationTrain()"
   ]
  },
  {
   "cell_type": "code",
   "execution_count": 3,
   "metadata": {},
   "outputs": [],
   "source": [
    "waveform, sample_rate = torchaudio.load(\"/home/ubuntu/elec823/clarity_CPC1_data/clarity_data/HA_outputs/train/S08508_L0201_E018.wav\")"
   ]
  },
  {
   "cell_type": "code",
   "execution_count": 2,
   "metadata": {},
   "outputs": [
    {
     "name": "stdout",
     "output_type": "stream",
     "text": [
      "torch.Size([1, 183680])\n"
     ]
    }
   ],
   "source": [
    "waveform, sample_rate = torchaudio.load(\"/home/ubuntu/elec823/clarity_CPC1_data/clarity_data/HA_outputs/train/S08508_L0201_E018_mono_1.wav\")\n",
    "print(waveform.shape)"
   ]
  },
  {
   "cell_type": "code",
   "execution_count": 3,
   "metadata": {},
   "outputs": [],
   "source": [
    "waveform = waveform[0, 2 * sample_rate: -sample_rate]"
   ]
  },
  {
   "cell_type": "code",
   "execution_count": 4,
   "metadata": {},
   "outputs": [],
   "source": [
    "resampler = torchaudio.transforms.Resample(\n",
    "            orig_freq=CONSTANTS.orig_freq, new_freq=CONSTANTS.new_freq\n",
    "        )\n",
    "speech_l, sr = torchaudio.load(\"/home/ubuntu/elec823/clarity_CPC1_data/clarity_data/HA_outputs/train/S08508_L0201_E018_mono_1.wav\")\n",
    "speech_l = torch.squeeze(speech_l)\n",
    "speech_l = speech_l[2 * sr: -sr]\n",
    "if sr != CONSTANTS.new_freq:\n",
    "            speech_l = resampler(speech_l)\n",
    "            sr = CONSTANTS.new_freq\n",
    "            \n",
    "desired_length = sr * 6  # keep 6 seconds\n",
    "if speech_l.size(-1) < desired_length:\n",
    "    padding = desired_length - speech_l.size(-1)\n",
    "    speech_l = torch.nn.functional.pad(speech_l, (0, padding), \"constant\")\n",
    "elif speech_l.size(-1) > desired_length:\n",
    "    speech_l = speech_l[..., :desired_length]\n",
    "\n"
   ]
  },
  {
   "cell_type": "code",
   "execution_count": 5,
   "metadata": {},
   "outputs": [
    {
     "data": {
      "text/plain": [
       "torch.Size([96000])"
      ]
     },
     "execution_count": 5,
     "metadata": {},
     "output_type": "execute_result"
    }
   ],
   "source": [
    "speech_l.shape"
   ]
  },
  {
   "cell_type": "code",
   "execution_count": 6,
   "metadata": {},
   "outputs": [
    {
     "data": {
      "text/plain": [
       "torch.Size([87680])"
      ]
     },
     "execution_count": 6,
     "metadata": {},
     "output_type": "execute_result"
    }
   ],
   "source": [
    "waveform.shape"
   ]
  },
  {
   "cell_type": "code",
   "execution_count": null,
   "metadata": {},
   "outputs": [],
   "source": []
  },
  {
   "cell_type": "code",
   "execution_count": 4,
   "metadata": {},
   "outputs": [
    {
     "data": {
      "text/plain": [
       "2"
      ]
     },
     "execution_count": 4,
     "metadata": {},
     "output_type": "execute_result"
    }
   ],
   "source": [
    "len(waveform)"
   ]
  },
  {
   "cell_type": "code",
   "execution_count": 5,
   "metadata": {},
   "outputs": [
    {
     "name": "stdout",
     "output_type": "stream",
     "text": [
      "tensor([[0., 0., 0.,  ..., 0., 0., 0.],\n",
      "        [0., 0., 0.,  ..., 0., 0., 0.]])\n"
     ]
    }
   ],
   "source": [
    "print(waveform)"
   ]
  },
  {
   "cell_type": "code",
   "execution_count": 6,
   "metadata": {},
   "outputs": [],
   "source": [
    "waveform_1 = waveform[0,:]"
   ]
  },
  {
   "cell_type": "code",
   "execution_count": 7,
   "metadata": {},
   "outputs": [
    {
     "data": {
      "text/plain": [
       "torch.Size([183680])"
      ]
     },
     "execution_count": 7,
     "metadata": {},
     "output_type": "execute_result"
    }
   ],
   "source": [
    "waveform_1.shape"
   ]
  },
  {
   "cell_type": "code",
   "execution_count": 12,
   "metadata": {},
   "outputs": [
    {
     "data": {
      "text/plain": [
       "torch.Size([1, 183680])"
      ]
     },
     "execution_count": 12,
     "metadata": {},
     "output_type": "execute_result"
    }
   ],
   "source": [
    "waveform.mean(dim=0, keepdim=True).shape"
   ]
  },
  {
   "cell_type": "code",
   "execution_count": 13,
   "metadata": {},
   "outputs": [],
   "source": [
    "torchaudio.save(filepath=\"./123.wav\", src=waveform_1.reshape(1, -1), sample_rate=sample_rate)"
   ]
  },
  {
   "cell_type": "code",
   "execution_count": 6,
   "metadata": {},
   "outputs": [
    {
     "name": "stderr",
     "output_type": "stream",
     "text": [
      "[NeMo W 2023-04-22 01:47:21 optimizers:54] Apex was not found. Using the lamb or fused_adam optimizer will error out.\n",
      "[NeMo W 2023-04-22 01:47:22 nemo_logging:349] /home/ubuntu/.local/lib/python3.8/site-packages/pydub/utils.py:170: RuntimeWarning: Couldn't find ffmpeg or avconv - defaulting to ffmpeg, but may not work\n",
      "      warn(\"Couldn't find ffmpeg or avconv - defaulting to ffmpeg, but may not work\", RuntimeWarning)\n",
      "    \n",
      "[NeMo W 2023-04-22 01:47:27 experimental:27] Module <class 'nemo.collections.asr.modules.audio_modules.SpectrogramToMultichannelFeatures'> is experimental, not ready for production and is not fully supported. Use at your own risk.\n"
     ]
    }
   ],
   "source": [
    "import os\n",
    "import torch\n",
    "import datetime\n",
    "import time\n",
    "\n",
    "import torch\n",
    "\n",
    "import torch.nn as nn\n",
    "import torch.optim as optim\n",
    "from sklearn.model_selection import KFold\n",
    "from torch.optim.lr_scheduler import StepLR\n",
    "from torch.utils.data import DataLoader\n",
    "from torch.utils.tensorboard import SummaryWriter\n",
    "from tqdm import tqdm\n",
    "import subprocess\n",
    "import os\n",
    "from utils import *\n",
    "from models import *\n",
    "from my_loss import *\n",
    "from data_process import *"
   ]
  },
  {
   "cell_type": "code",
   "execution_count": 7,
   "metadata": {},
   "outputs": [],
   "source": [
    "dataset = CPCdataBinaural(metadata=CONSTANTS.metadata)"
   ]
  },
  {
   "cell_type": "code",
   "execution_count": 9,
   "metadata": {},
   "outputs": [
    {
     "name": "stdout",
     "output_type": "stream",
     "text": [
      "[tensor([-0.1319, -0.0580, -0.2344,  ...,  0.0000,  0.0000,  0.0000]), tensor([-0.0159,  0.0873,  0.0218,  ...,  0.0000,  0.0000,  0.0000])]\n",
      "2\n",
      "OrderedDict([('path', ['/home/ubuntu/elec823/clarity_CPC1_data/clarity_data/HA_outputs/train/S08510_L0239_E001_mono_1.wav', '/home/ubuntu/elec823/clarity_CPC1_data/clarity_data/HA_outputs/train/S08510_L0239_E001_mono_2.wav']), ('score', 0.1), ('listener', 'L0239'), ('system', 'E001'), ('scene', 'S08510'), ('volume', 0.56), ('prompt', \"i suppose you wouldn't be free for dinner this evening\")])\n"
     ]
    }
   ],
   "source": [
    "for i, j in dataset:\n",
    "    print(i)\n",
    "    print(len(i))\n",
    "    print(j)\n",
    "    break"
   ]
  },
  {
   "cell_type": "code",
   "execution_count": 12,
   "metadata": {},
   "outputs": [],
   "source": [
    "train_loader = DataLoader(dataset=dataset, batch_size=3)"
   ]
  },
  {
   "cell_type": "code",
   "execution_count": 18,
   "metadata": {},
   "outputs": [
    {
     "name": "stdout",
     "output_type": "stream",
     "text": [
      "torch.Size([3, 96000])\n",
      "[tensor([[-0.1319, -0.0580, -0.2344,  ...,  0.0000,  0.0000,  0.0000],\n",
      "        [-0.0542,  0.0237, -0.0008,  ...,  0.0000,  0.0000,  0.0000],\n",
      "        [-0.0822, -0.0206,  0.2036,  ...,  0.0000,  0.0000,  0.0000]]), tensor([[-0.0159,  0.0873,  0.0218,  ...,  0.0000,  0.0000,  0.0000],\n",
      "        [ 0.2010, -0.2137,  0.1628,  ...,  0.0000,  0.0000,  0.0000],\n",
      "        [-0.1564, -0.4136, -0.3850,  ...,  0.0000,  0.0000,  0.0000]])]\n",
      "2\n",
      "torch.Size([3, 96000])\n"
     ]
    }
   ],
   "source": [
    "for i, j in train_loader:\n",
    "    print(i[0].shape)\n",
    "    print(i)\n",
    "    print(len(i))\n",
    "    print(i[1].shape)\n",
    "    break"
   ]
  },
  {
   "cell_type": "code",
   "execution_count": null,
   "metadata": {},
   "outputs": [],
   "source": []
  }
 ],
 "metadata": {
  "kernelspec": {
   "display_name": "base",
   "language": "python",
   "name": "python3"
  },
  "language_info": {
   "codemirror_mode": {
    "name": "ipython",
    "version": 3
   },
   "file_extension": ".py",
   "mimetype": "text/x-python",
   "name": "python",
   "nbconvert_exporter": "python",
   "pygments_lexer": "ipython3",
   "version": "3.8.12"
  },
  "orig_nbformat": 4
 },
 "nbformat": 4,
 "nbformat_minor": 2
}
