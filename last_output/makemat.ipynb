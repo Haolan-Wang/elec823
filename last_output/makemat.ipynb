{
 "cells": [
  {
   "cell_type": "code",
   "execution_count": 18,
   "metadata": {},
   "outputs": [],
   "source": [
    "import re\n",
    "import numpy as np\n",
    "import scipy.io as sio\n",
    "# Read txt file\n",
    "output_name = \"../mat/Hurricane_EncoderPredictor_03.mat\"\n",
    "file_train = \"/home/ubuntu/elec823/last_output/Hurricane_EncoderPredictor_03_train_3.txt\"\n",
    "file_val = \"/home/ubuntu/elec823/last_output/Hurricane_EncoderPredictor_03_val_3.txt\"\n",
    "noise_types = {\"cs\":0, \"ssn\":1}\n",
    "snrs = {\"snrHi\":0, \"snrMid\":1, \"snrLo\":2}\n",
    "scores = np.zeros((20, 1, 3, 180))\n",
    "\n",
    "def load_pre (txt_file, scores):\n",
    "    with open(txt_file) as f:\n",
    "        lines = f.readlines()[1:]  # 跳过第一行，从第二行开始读取\n",
    "    for line in lines:\n",
    "        elements = line.strip().split(',')  # 使用逗号分隔每行的元素\n",
    "        audio_path = elements[0]\n",
    "        split_str = audio_path.split('/')\n",
    "        output = [split_str[-4], split_str[-3], split_str[-2], split_str[-1].split('_')[-1].split('.')[0]]\n",
    "        \n",
    "        mod = int(''.join(re.findall(r'\\d+', output[0])))\n",
    "        noise_type = noise_types[output[1]]\n",
    "        snr = snrs[output[2]]\n",
    "        utt = int(output[3])\n",
    "        scores[mod-1, 0, snr, utt-1] = elements[2]\n",
    "    return scores\n",
    "\n",
    "out = load_pre(file_val, load_pre(file_train, scores))\n",
    "sio.savemat(output_name, {\"preds\":out})"
   ]
  },
  {
   "cell_type": "code",
   "execution_count": null,
   "metadata": {},
   "outputs": [],
   "source": []
  }
 ],
 "metadata": {
  "kernelspec": {
   "display_name": "base",
   "language": "python",
   "name": "python3"
  },
  "language_info": {
   "codemirror_mode": {
    "name": "ipython",
    "version": 3
   },
   "file_extension": ".py",
   "mimetype": "text/x-python",
   "name": "python",
   "nbconvert_exporter": "python",
   "pygments_lexer": "ipython3",
   "version": "3.8.12"
  },
  "orig_nbformat": 4
 },
 "nbformat": 4,
 "nbformat_minor": 2
}
