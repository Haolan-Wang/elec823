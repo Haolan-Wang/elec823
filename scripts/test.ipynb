{
 "cells": [
  {
   "attachments": {},
   "cell_type": "markdown",
   "metadata": {},
   "source": [
    "# Wav2vec"
   ]
  },
  {
   "cell_type": "code",
   "execution_count": 10,
   "metadata": {},
   "outputs": [],
   "source": [
    "from datasets import load_dataset\n",
    "from transformers import Wav2Vec2ForCTC, Wav2Vec2Processor, Wav2Vec2Model\n"
   ]
  },
  {
   "cell_type": "code",
   "execution_count": 11,
   "metadata": {},
   "outputs": [
    {
     "name": "stderr",
     "output_type": "stream",
     "text": [
      "Some weights of the model checkpoint at jonatasgrosman/wav2vec2-large-xlsr-53-english were not used when initializing Wav2Vec2Model: ['lm_head.weight', 'lm_head.bias']\n",
      "- This IS expected if you are initializing Wav2Vec2Model from the checkpoint of a model trained on another task or with another architecture (e.g. initializing a BertForSequenceClassification model from a BertForPreTraining model).\n",
      "- This IS NOT expected if you are initializing Wav2Vec2Model from the checkpoint of a model that you expect to be exactly identical (initializing a BertForSequenceClassification model from a BertForSequenceClassification model).\n"
     ]
    }
   ],
   "source": [
    "MODEL_ID = \"jonatasgrosman/wav2vec2-large-xlsr-53-english\"\n",
    "model = Wav2Vec2Model.from_pretrained(MODEL_ID)"
   ]
  },
  {
   "cell_type": "code",
   "execution_count": null,
   "metadata": {},
   "outputs": [],
   "source": [
    "from models import *\n",
    "from utils import *\n",
    "from my_loss import *\n",
    "from datasets import *\n",
    "\n",
    "MODEL = 'Wav2vec'\n",
    "\n",
    "CONSTANTS = InitializationTrain(\n",
    "    model_name=MODEL, \n",
    "    verbose=True,\n",
    "    train_data_path='/home/ubuntu/elec823/clarity_CPC1_data/clarity_data/HA_outputs/train/',\n",
    "    train_info_path='/home/ubuntu/elec823/clarity_CPC1_data/metadata/CPC1.train.json',\n",
    "    train_audiogram_path='/home/ubuntu/elec823/clarity_CPC1_data/metadata/listeners.CPC1_train.json',\n",
    "    train_listener_path='/home/ubuntu/elec823/clarity_CPC1_data/metadata/listener_data.CPC1_train.xlsx',\n",
    "    log_path='/home/ubuntu/elec823/log/',\n",
    "    save_path='/home/ubuntu/elec823/checkpoints/',\n",
    "    orig_freq=32000,\n",
    "    new_freq=16_000,\n",
    "    seed=3407,\n",
    "    device=None\n",
    "    )\n",
    "dataset = CPCdataMono(metadata=CONSTANTS.metadata)\n",
    "\n",
    "kf = KFold(n_splits=10, shuffle=True)\n",
    "for fold, (train_idx, val_idx) in enumerate(kf.split(dataset)):\n",
    "    train_loader = DataLoader(dataset=[dataset[i] for i in train_idx], batch_size=3, shuffle=True, pin_memory=True,num_workers=8)\n",
    "    break"
   ]
  },
  {
   "cell_type": "code",
   "execution_count": 17,
   "metadata": {},
   "outputs": [
    {
     "name": "stdout",
     "output_type": "stream",
     "text": [
      "torch.Size([3, 1, 96000])\n",
      "torch.Size([3, 96000])\n",
      "Wav2Vec2BaseModelOutput(last_hidden_state=tensor([[[ 0.2888, -0.1173,  0.1985,  ...,  0.5687,  0.3811,  0.1221],\n",
      "         [ 0.0324, -0.2513,  0.1291,  ...,  0.6885, -0.1669,  0.2648],\n",
      "         [-0.0672, -0.1577,  0.1340,  ...,  0.6866, -0.2222,  0.1933],\n",
      "         ...,\n",
      "         [-0.3305,  0.5619,  0.2221,  ...,  0.4587, -0.1503,  0.3390],\n",
      "         [-0.3358,  0.6425,  0.1594,  ...,  0.5681, -0.2193,  0.3831],\n",
      "         [-0.4899,  0.7449, -0.0375,  ..., -0.1253, -0.6230, -0.1040]],\n",
      "\n",
      "        [[ 0.1424, -0.0175,  0.2511,  ...,  0.1725,  0.2934,  0.0800],\n",
      "         [ 0.1046,  0.0493,  0.0012,  ...,  0.2431,  0.3863,  0.1871],\n",
      "         [ 0.0813,  0.0636,  0.1354,  ...,  0.1226,  0.0250,  0.0556],\n",
      "         ...,\n",
      "         [-0.1528,  0.3543,  0.0961,  ...,  0.1859,  0.0815,  0.1034],\n",
      "         [-0.3693,  0.5223,  0.0681,  ...,  0.4211, -0.0720,  0.2557],\n",
      "         [-0.5397,  0.7674, -0.0720,  ..., -0.1813, -0.6968, -0.0493]],\n",
      "\n",
      "        [[-0.0129,  0.1002,  0.2069,  ...,  0.2596,  0.0546,  0.3473],\n",
      "         [-0.0348, -0.0883,  0.1996,  ...,  0.4466, -0.1801,  0.5343],\n",
      "         [-0.2575,  0.1496,  0.1939,  ...,  0.6041, -0.1884,  0.4076],\n",
      "         ...,\n",
      "         [-0.1593,  0.3554,  0.0994,  ...,  0.5164, -0.2087,  0.4579],\n",
      "         [-0.2328,  0.4350,  0.0515,  ...,  0.6716, -0.1390,  0.4613],\n",
      "         [-0.4562,  0.7337, -0.0913,  ..., -0.1945, -0.5450, -0.1271]]]), extract_features=tensor([[[ 0.5875, -0.5624, -1.7716,  ..., -0.1660, -0.9833,  0.6251],\n",
      "         [ 0.3735, -0.3427, -1.6387,  ..., -0.3913, -0.8916,  0.6661],\n",
      "         [ 0.5060, -0.0391, -1.2151,  ..., -0.2063, -0.7524,  1.2636],\n",
      "         ...,\n",
      "         [ 0.6734,  0.1958, -1.4379,  ..., -0.4714, -1.0505,  1.2487],\n",
      "         [ 0.6734,  0.1958, -1.4379,  ..., -0.4714, -1.0505,  1.2487],\n",
      "         [ 0.6734,  0.1958, -1.4379,  ..., -0.4714, -1.0505,  1.2487]],\n",
      "\n",
      "        [[-0.1131, -0.6031, -1.3699,  ..., -0.1561, -0.7132,  1.4184],\n",
      "         [-0.1040, -0.3498, -0.6464,  ...,  0.2572, -0.4178,  1.3826],\n",
      "         [ 0.2929, -0.1063, -1.4256,  ..., -0.5698, -1.0069, -0.5264],\n",
      "         ...,\n",
      "         [ 0.6734,  0.1958, -1.4379,  ..., -0.4714, -1.0505,  1.2487],\n",
      "         [ 0.6734,  0.1958, -1.4379,  ..., -0.4714, -1.0505,  1.2487],\n",
      "         [ 0.6734,  0.1958, -1.4379,  ..., -0.4714, -1.0505,  1.2487]],\n",
      "\n",
      "        [[ 0.9928, -1.1916, -1.9193,  ...,  0.2431, -0.8616,  1.4262],\n",
      "         [ 0.2941, -1.0999, -1.7380,  ..., -0.0304, -1.0939,  0.6614],\n",
      "         [ 0.3996, -1.1266, -0.7817,  ...,  0.2542, -1.0804,  1.8281],\n",
      "         ...,\n",
      "         [ 0.6734,  0.1958, -1.4379,  ..., -0.4714, -1.0505,  1.2487],\n",
      "         [ 0.6734,  0.1958, -1.4379,  ..., -0.4714, -1.0505,  1.2487],\n",
      "         [ 0.6734,  0.1958, -1.4379,  ..., -0.4714, -1.0505,  1.2487]]]), hidden_states=None, attentions=None)\n",
      "tensor([[[ 0.2888, -0.1173,  0.1985,  ...,  0.5687,  0.3811,  0.1221],\n",
      "         [ 0.0324, -0.2513,  0.1291,  ...,  0.6885, -0.1669,  0.2648],\n",
      "         [-0.0672, -0.1577,  0.1340,  ...,  0.6866, -0.2222,  0.1933],\n",
      "         ...,\n",
      "         [-0.3305,  0.5619,  0.2221,  ...,  0.4587, -0.1503,  0.3390],\n",
      "         [-0.3358,  0.6425,  0.1594,  ...,  0.5681, -0.2193,  0.3831],\n",
      "         [-0.4899,  0.7449, -0.0375,  ..., -0.1253, -0.6230, -0.1040]],\n",
      "\n",
      "        [[ 0.1424, -0.0175,  0.2511,  ...,  0.1725,  0.2934,  0.0800],\n",
      "         [ 0.1046,  0.0493,  0.0012,  ...,  0.2431,  0.3863,  0.1871],\n",
      "         [ 0.0813,  0.0636,  0.1354,  ...,  0.1226,  0.0250,  0.0556],\n",
      "         ...,\n",
      "         [-0.1528,  0.3543,  0.0961,  ...,  0.1859,  0.0815,  0.1034],\n",
      "         [-0.3693,  0.5223,  0.0681,  ...,  0.4211, -0.0720,  0.2557],\n",
      "         [-0.5397,  0.7674, -0.0720,  ..., -0.1813, -0.6968, -0.0493]],\n",
      "\n",
      "        [[-0.0129,  0.1002,  0.2069,  ...,  0.2596,  0.0546,  0.3473],\n",
      "         [-0.0348, -0.0883,  0.1996,  ...,  0.4466, -0.1801,  0.5343],\n",
      "         [-0.2575,  0.1496,  0.1939,  ...,  0.6041, -0.1884,  0.4076],\n",
      "         ...,\n",
      "         [-0.1593,  0.3554,  0.0994,  ...,  0.5164, -0.2087,  0.4579],\n",
      "         [-0.2328,  0.4350,  0.0515,  ...,  0.6716, -0.1390,  0.4613],\n",
      "         [-0.4562,  0.7337, -0.0913,  ..., -0.1945, -0.5450, -0.1271]]])\n",
      "torch.Size([3, 299, 1024])\n"
     ]
    },
    {
     "ename": "",
     "evalue": "",
     "output_type": "error",
     "traceback": [
      "\u001b[1;31mThe Kernel crashed while executing code in the the current cell or a previous cell. Please review the code in the cell(s) to identify a possible cause of the failure. Click <a href='https://aka.ms/vscodeJupyterKernelCrash'>here</a> for more info. View Jupyter <a href='command:jupyter.viewOutput'>log</a> for further details."
     ]
    }
   ],
   "source": [
    "# Input 16000 Hz, mono\n",
    "for speech_input, info_dict in train_loader:\n",
    "    print(speech_input.shape)\n",
    "    speech_input = torch.squeeze(speech_input, dim=1)\n",
    "    print(speech_input.shape)\n",
    "    with torch.no_grad():\n",
    "        print(model(speech_input))\n",
    "        logits = model(speech_input).last_hidden_state\n",
    "        print(logits)\n",
    "        print(logits.shape)\n",
    "        \n",
    "    break"
   ]
  },
  {
   "cell_type": "code",
   "execution_count": null,
   "metadata": {},
   "outputs": [],
   "source": []
  }
 ],
 "metadata": {
  "kernelspec": {
   "display_name": "base",
   "language": "python",
   "name": "python3"
  },
  "language_info": {
   "codemirror_mode": {
    "name": "ipython",
    "version": 3
   },
   "file_extension": ".py",
   "mimetype": "text/x-python",
   "name": "python",
   "nbconvert_exporter": "python",
   "pygments_lexer": "ipython3",
   "version": "3.10.9"
  },
  "orig_nbformat": 4
 },
 "nbformat": 4,
 "nbformat_minor": 2
}
