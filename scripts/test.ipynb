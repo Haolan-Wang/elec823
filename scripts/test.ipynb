{
 "cells": [
  {
   "cell_type": "code",
   "execution_count": 13,
   "metadata": {},
   "outputs": [
    {
     "ename": "RuntimeError",
     "evalue": "PytorchStreamReader failed locating file data.pkl: file not found",
     "output_type": "error",
     "traceback": [
      "\u001b[0;31m---------------------------------------------------------------------------\u001b[0m",
      "\u001b[0;31mRuntimeError\u001b[0m                              Traceback (most recent call last)",
      "Cell \u001b[0;32mIn[13], line 9\u001b[0m\n\u001b[1;32m      5\u001b[0m MODEL \u001b[39m=\u001b[39m \u001b[39m'\u001b[39m\u001b[39m01_mel_mono_loss_v2_2\u001b[39m\u001b[39m'\u001b[39m\n\u001b[1;32m      6\u001b[0m \u001b[39m# model = torch.load(\"/home/ubuntu/elec823/withSigmoid/checkpoints/01_mel_mono_loss_v2_2/final.pt\")\u001b[39;00m\n\u001b[1;32m      7\u001b[0m \u001b[39m# model = MelMonoModelWithout().to(device)\u001b[39;00m\n\u001b[1;32m      8\u001b[0m \u001b[39m# model = model.load_state_dict(\"/home/ubuntu/elec823/checkpoints/01_mel_mono_loss_without_v2_2/last.pt\")\u001b[39;00m\n\u001b[0;32m----> 9\u001b[0m model \u001b[39m=\u001b[39m torch\u001b[39m.\u001b[39;49mload(\u001b[39m\"\u001b[39;49m\u001b[39m/home/ubuntu/elec823/checkpoints/01_mel_mono_loss_without_v2_2/final.pt\u001b[39;49m\u001b[39m\"\u001b[39;49m, map_location\u001b[39m=\u001b[39;49m\u001b[39mlambda\u001b[39;49;00m storage, loc: storage)\n",
      "File \u001b[0;32m~/miniconda3/lib/python3.10/site-packages/torch/serialization.py:712\u001b[0m, in \u001b[0;36mload\u001b[0;34m(f, map_location, pickle_module, **pickle_load_args)\u001b[0m\n\u001b[1;32m    710\u001b[0m             opened_file\u001b[39m.\u001b[39mseek(orig_position)\n\u001b[1;32m    711\u001b[0m             \u001b[39mreturn\u001b[39;00m torch\u001b[39m.\u001b[39mjit\u001b[39m.\u001b[39mload(opened_file)\n\u001b[0;32m--> 712\u001b[0m         \u001b[39mreturn\u001b[39;00m _load(opened_zipfile, map_location, pickle_module, \u001b[39m*\u001b[39;49m\u001b[39m*\u001b[39;49mpickle_load_args)\n\u001b[1;32m    713\u001b[0m \u001b[39mreturn\u001b[39;00m _legacy_load(opened_file, map_location, pickle_module, \u001b[39m*\u001b[39m\u001b[39m*\u001b[39mpickle_load_args)\n",
      "File \u001b[0;32m~/miniconda3/lib/python3.10/site-packages/torch/serialization.py:1045\u001b[0m, in \u001b[0;36m_load\u001b[0;34m(zip_file, map_location, pickle_module, pickle_file, **pickle_load_args)\u001b[0m\n\u001b[1;32m   1042\u001b[0m         \u001b[39mreturn\u001b[39;00m \u001b[39msuper\u001b[39m()\u001b[39m.\u001b[39mfind_class(mod_name, name)\n\u001b[1;32m   1044\u001b[0m \u001b[39m# Load the data (which may in turn use `persistent_load` to load tensors)\u001b[39;00m\n\u001b[0;32m-> 1045\u001b[0m data_file \u001b[39m=\u001b[39m io\u001b[39m.\u001b[39mBytesIO(zip_file\u001b[39m.\u001b[39;49mget_record(pickle_file))\n\u001b[1;32m   1047\u001b[0m unpickler \u001b[39m=\u001b[39m UnpicklerWrapper(data_file, \u001b[39m*\u001b[39m\u001b[39m*\u001b[39mpickle_load_args)\n\u001b[1;32m   1048\u001b[0m unpickler\u001b[39m.\u001b[39mpersistent_load \u001b[39m=\u001b[39m persistent_load\n",
      "\u001b[0;31mRuntimeError\u001b[0m: PytorchStreamReader failed locating file data.pkl: file not found"
     ]
    }
   ],
   "source": [
    "from models import *\n",
    "from utils import *\n",
    "from my_loss import *\n",
    "import torch\n",
    "MODEL = '01_mel_mono_loss_v2_2'\n",
    "# model = torch.load(\"/home/ubuntu/elec823/withSigmoid/checkpoints/01_mel_mono_loss_v2_2/final.pt\")\n",
    "# model = MelMonoModelWithout().to(device)\n",
    "# model = model.load_state_dict(\"/home/ubuntu/elec823/checkpoints/01_mel_mono_loss_without_v2_2/last.pt\")\n",
    "model = torch.load(\"/home/ubuntu/elec823/checkpoints/01_mel_mono_loss_without_v2_2/final.pt\", map_location=lambda storage, loc: storage)"
   ]
  },
  {
   "cell_type": "code",
   "execution_count": 8,
   "metadata": {},
   "outputs": [
    {
     "name": "stdout",
     "output_type": "stream",
     "text": [
      "Using GPU: Tesla T4\n",
      "Model Name:  01_mel_mono_loss_v2_2\n",
      "Checking paths...\n",
      "Folder already exists: /home/ubuntu/elec823/log/01_mel_mono_loss_v2_2\n",
      "Folder already exists: /home/ubuntu/elec823/checkpoints/01_mel_mono_loss_v2_2\n",
      "Folder already exists: /home/ubuntu/elec823/log/last_output/\n",
      "Seed set to: 3407\n"
     ]
    }
   ],
   "source": [
    "dataset = CPCdata(metadata=CONSTANTS.metadata)\n",
    "\n",
    "CONSTANTS = InitializationTrain(\n",
    "    model_name=MODEL, \n",
    "    verbose=True,\n",
    "    log_path='/home/ubuntu/elec823/log/',\n",
    "    save_path='/home/ubuntu/elec823/checkpoints/',\n",
    "    orig_freq=32000,\n",
    "    new_freq=16_000,\n",
    "    seed=3407,\n",
    "    device=None,\n",
    "    mode='test'\n",
    "    )\n"
   ]
  },
  {
   "cell_type": "code",
   "execution_count": 10,
   "metadata": {},
   "outputs": [],
   "source": [
    "batch_size=32\n",
    "num_workers=8"
   ]
  },
  {
   "cell_type": "code",
   "execution_count": 11,
   "metadata": {},
   "outputs": [],
   "source": [
    "test_loader = DataLoader(dataset=dataset, batch_size=batch_size, shuffle=True, pin_memory=True,\n",
    "            num_workers=num_workers)"
   ]
  },
  {
   "cell_type": "code",
   "execution_count": 12,
   "metadata": {},
   "outputs": [
    {
     "ename": "AttributeError",
     "evalue": "'collections.OrderedDict' object has no attribute 'eval'",
     "output_type": "error",
     "traceback": [
      "\u001b[0;31m---------------------------------------------------------------------------\u001b[0m",
      "\u001b[0;31mAttributeError\u001b[0m                            Traceback (most recent call last)",
      "Cell \u001b[0;32mIn[12], line 2\u001b[0m\n\u001b[1;32m      1\u001b[0m \u001b[39mwith\u001b[39;00m torch\u001b[39m.\u001b[39mno_grad():\n\u001b[0;32m----> 2\u001b[0m     model\u001b[39m.\u001b[39;49meval()\n\u001b[1;32m      3\u001b[0m     test_loss \u001b[39m=\u001b[39m \u001b[39m0\u001b[39m\n\u001b[1;32m      4\u001b[0m     test_scores \u001b[39m=\u001b[39m torch\u001b[39m.\u001b[39mzeros(\u001b[39m0\u001b[39m)\u001b[39m.\u001b[39mto(device)\n",
      "\u001b[0;31mAttributeError\u001b[0m: 'collections.OrderedDict' object has no attribute 'eval'"
     ]
    }
   ],
   "source": [
    "with torch.no_grad():\n",
    "    model.eval()\n",
    "    test_loss = 0\n",
    "    test_scores = torch.zeros(0).to(device)\n",
    "    test_preds = torch.zeros(0).to(device)\n",
    "    for speech_input, info_dict in tqdm(test_loader):\n",
    "        speech_input = speech_input.to(device)\n",
    "        score = info_dict[\"score\"].to(torch.float32).to(device)\n",
    "        pred = model(speech_input, info_dict)\n",
    "        pred = torch.squeeze(pred)\n",
    "        # criterion = ErrorCal()(pred, score)\n",
    "\n",
    "        test_scores = torch.cat((test_scores, score))\n",
    "        test_preds = torch.cat((test_preds, pred))"
   ]
  },
  {
   "cell_type": "code",
   "execution_count": null,
   "metadata": {},
   "outputs": [],
   "source": []
  }
 ],
 "metadata": {
  "kernelspec": {
   "display_name": "base",
   "language": "python",
   "name": "python3"
  },
  "language_info": {
   "codemirror_mode": {
    "name": "ipython",
    "version": 3
   },
   "file_extension": ".py",
   "mimetype": "text/x-python",
   "name": "python",
   "nbconvert_exporter": "python",
   "pygments_lexer": "ipython3",
   "version": "3.10.9"
  },
  "orig_nbformat": 4
 },
 "nbformat": 4,
 "nbformat_minor": 2
}
